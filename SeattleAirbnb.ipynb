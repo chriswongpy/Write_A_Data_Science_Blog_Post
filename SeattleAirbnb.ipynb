{
 "cells": [
  {
   "cell_type": "markdown",
   "metadata": {},
   "source": [
    "<h2 id='part1'>A Look at the Seattle Airbnb Data</h2>\n",
    "\n",
    "In order to get a better understanding of the data we will be looking at throughout this lesson, let's take a look at some of the characteristics of the dataset.\n",
    "\n",
    "First, let's read in the data and necessary libraries."
   ]
  },
  {
   "cell_type": "code",
   "execution_count": 2,
   "metadata": {},
   "outputs": [],
   "source": [
    "import numpy as np\n",
    "import pandas as pd\n",
    "\n",
    "#for visualization\n",
    "import matplotlib.pyplot as plt\n",
    "import seaborn as sns\n",
    "%matplotlib inline\n",
    "\n",
    "'''\n",
    "Business understanding\n",
    "Dataset: Seattle Airbnb Open Data: https://www.kaggle.com/airbnb/seattle\n",
    "Description:\n",
    "    This Seattle dataset describes the listing activity of homestays in Seattle, WA. It includes the following:\n",
    "    Listings, including full descriptions and average review score\n",
    "    Reviews, including unique id for each reviewer and detailed comments\n",
    "    Calendar, including listing id and the price and availability for that day\n",
    "    Our analysis will be focusing on the Listings dataset.\n",
    "'''\n",
    "#load listings dataset\n",
    "df_listings= pd.read_csv('./data/listings.csv')\n"
   ]
  },
  {
   "cell_type": "markdown",
   "metadata": {},
   "source": [
    "Some data checking:\n",
    "- dimensions of each dataset\n",
    "- columns \n",
    "- missing values (if any)\n",
    "\n"
   ]
  },
  {
   "cell_type": "code",
   "execution_count": 3,
   "metadata": {},
   "outputs": [
    {
     "name": "stdout",
     "output_type": "stream",
     "text": [
      "(3818, 92)\n"
     ]
    }
   ],
   "source": [
    "'''\n",
    "Data Understanding\n",
    "Explore the dataset and check if there is any missing values need to be addressed\n",
    "'''\n",
    "# dimensions of each dataset\n",
    "\n",
    "print(df_listings.shape)\n",
    "\n"
   ]
  },
  {
   "cell_type": "code",
   "execution_count": 4,
   "metadata": {},
   "outputs": [
    {
     "name": "stdout",
     "output_type": "stream",
     "text": [
      "Data type of each column of Dataframe \"Listings\" :\n",
      "id                                    int64\n",
      "listing_url                          object\n",
      "scrape_id                             int64\n",
      "last_scraped                         object\n",
      "name                                 object\n",
      "summary                              object\n",
      "space                                object\n",
      "description                          object\n",
      "experiences_offered                  object\n",
      "neighborhood_overview                object\n",
      "notes                                object\n",
      "transit                              object\n",
      "thumbnail_url                        object\n",
      "medium_url                           object\n",
      "picture_url                          object\n",
      "xl_picture_url                       object\n",
      "host_id                               int64\n",
      "host_url                             object\n",
      "host_name                            object\n",
      "host_since                           object\n",
      "host_location                        object\n",
      "host_about                           object\n",
      "host_response_time                   object\n",
      "host_response_rate                   object\n",
      "host_acceptance_rate                 object\n",
      "host_is_superhost                    object\n",
      "host_thumbnail_url                   object\n",
      "host_picture_url                     object\n",
      "host_neighbourhood                   object\n",
      "host_listings_count                 float64\n",
      "                                     ...   \n",
      "guests_included                       int64\n",
      "extra_people                         object\n",
      "minimum_nights                        int64\n",
      "maximum_nights                        int64\n",
      "calendar_updated                     object\n",
      "has_availability                     object\n",
      "availability_30                       int64\n",
      "availability_60                       int64\n",
      "availability_90                       int64\n",
      "availability_365                      int64\n",
      "calendar_last_scraped                object\n",
      "number_of_reviews                     int64\n",
      "first_review                         object\n",
      "last_review                          object\n",
      "review_scores_rating                float64\n",
      "review_scores_accuracy              float64\n",
      "review_scores_cleanliness           float64\n",
      "review_scores_checkin               float64\n",
      "review_scores_communication         float64\n",
      "review_scores_location              float64\n",
      "review_scores_value                 float64\n",
      "requires_license                     object\n",
      "license                             float64\n",
      "jurisdiction_names                   object\n",
      "instant_bookable                     object\n",
      "cancellation_policy                  object\n",
      "require_guest_profile_picture        object\n",
      "require_guest_phone_verification     object\n",
      "calculated_host_listings_count        int64\n",
      "reviews_per_month                   float64\n",
      "Length: 92, dtype: object\n"
     ]
    }
   ],
   "source": [
    "# data type objects of each column of Dataframe \"Listings\"\n",
    "dtypes_listings = df_listings.dtypes\n",
    "print('Data type of each column of Dataframe \"Listings\" :')\n",
    "print(dtypes_listings)"
   ]
  },
  {
   "cell_type": "code",
   "execution_count": 5,
   "metadata": {},
   "outputs": [],
   "source": [
    "# look for missing values in Dataframe \n",
    "def missing_values_table(df):\n",
    "    '''\n",
    "    Function to summarize missing values in the dataframe\n",
    "    Input: dataframe\n",
    "    output: table summarize missing values\n",
    "    '''\n",
    "    zero_val = (df == 0.00).astype(int).sum(axis=0)\n",
    "    mis_val = df.isnull().sum()\n",
    "    mis_val_percent = 100 * df.isnull().sum() / len(df)\n",
    "    mz_table = pd.concat([zero_val, mis_val, mis_val_percent], axis=1)\n",
    "    mz_table = mz_table.rename(\n",
    "    columns = {0 : 'Zero Values', 1 : 'Missing Values', 2 : '% of Total Values'})\n",
    "    mz_table['Total Zero Missing Values'] = mz_table['Zero Values'] + mz_table['Missing Values']\n",
    "    mz_table['% Total Zero Missing Values'] = 100 * mz_table['Total Zero Missing Values'] / len(df)\n",
    "    mz_table['Data Type'] = df.dtypes\n",
    "    mz_table = mz_table[\n",
    "        mz_table.iloc[:,1] != 0].sort_values(\n",
    "    '% of Total Values', ascending=False).round(1)\n",
    "    print (\"This dataframe has \" + str(df.shape[1]) + \" columns and \" + str(df.shape[0]) + \" Rows.\\n\"      \n",
    "        \"There are \" + str(mz_table.shape[0]) +\n",
    "          \" columns that have missing values.\")\n",
    "\n",
    "    return mz_table\n",
    "\n"
   ]
  },
  {
   "cell_type": "code",
   "execution_count": 6,
   "metadata": {},
   "outputs": [
    {
     "name": "stdout",
     "output_type": "stream",
     "text": [
      "This dataframe has 92 columns and 3818 Rows.\n",
      "There are 45 columns that have missing values.\n"
     ]
    },
    {
     "data": {
      "text/html": [
       "<div>\n",
       "<style scoped>\n",
       "    .dataframe tbody tr th:only-of-type {\n",
       "        vertical-align: middle;\n",
       "    }\n",
       "\n",
       "    .dataframe tbody tr th {\n",
       "        vertical-align: top;\n",
       "    }\n",
       "\n",
       "    .dataframe thead th {\n",
       "        text-align: right;\n",
       "    }\n",
       "</style>\n",
       "<table border=\"1\" class=\"dataframe\">\n",
       "  <thead>\n",
       "    <tr style=\"text-align: right;\">\n",
       "      <th></th>\n",
       "      <th>Zero Values</th>\n",
       "      <th>Missing Values</th>\n",
       "      <th>% of Total Values</th>\n",
       "      <th>Total Zero Missing Values</th>\n",
       "      <th>% Total Zero Missing Values</th>\n",
       "      <th>Data Type</th>\n",
       "    </tr>\n",
       "  </thead>\n",
       "  <tbody>\n",
       "    <tr>\n",
       "      <th>license</th>\n",
       "      <td>0</td>\n",
       "      <td>3818</td>\n",
       "      <td>100.0</td>\n",
       "      <td>3818</td>\n",
       "      <td>100.0</td>\n",
       "      <td>float64</td>\n",
       "    </tr>\n",
       "    <tr>\n",
       "      <th>square_feet</th>\n",
       "      <td>5</td>\n",
       "      <td>3721</td>\n",
       "      <td>97.5</td>\n",
       "      <td>3726</td>\n",
       "      <td>97.6</td>\n",
       "      <td>float64</td>\n",
       "    </tr>\n",
       "    <tr>\n",
       "      <th>monthly_price</th>\n",
       "      <td>0</td>\n",
       "      <td>2301</td>\n",
       "      <td>60.3</td>\n",
       "      <td>2301</td>\n",
       "      <td>60.3</td>\n",
       "      <td>object</td>\n",
       "    </tr>\n",
       "    <tr>\n",
       "      <th>security_deposit</th>\n",
       "      <td>0</td>\n",
       "      <td>1952</td>\n",
       "      <td>51.1</td>\n",
       "      <td>1952</td>\n",
       "      <td>51.1</td>\n",
       "      <td>object</td>\n",
       "    </tr>\n",
       "    <tr>\n",
       "      <th>weekly_price</th>\n",
       "      <td>0</td>\n",
       "      <td>1809</td>\n",
       "      <td>47.4</td>\n",
       "      <td>1809</td>\n",
       "      <td>47.4</td>\n",
       "      <td>object</td>\n",
       "    </tr>\n",
       "    <tr>\n",
       "      <th>notes</th>\n",
       "      <td>0</td>\n",
       "      <td>1606</td>\n",
       "      <td>42.1</td>\n",
       "      <td>1606</td>\n",
       "      <td>42.1</td>\n",
       "      <td>object</td>\n",
       "    </tr>\n",
       "    <tr>\n",
       "      <th>neighborhood_overview</th>\n",
       "      <td>0</td>\n",
       "      <td>1032</td>\n",
       "      <td>27.0</td>\n",
       "      <td>1032</td>\n",
       "      <td>27.0</td>\n",
       "      <td>object</td>\n",
       "    </tr>\n",
       "    <tr>\n",
       "      <th>cleaning_fee</th>\n",
       "      <td>0</td>\n",
       "      <td>1030</td>\n",
       "      <td>27.0</td>\n",
       "      <td>1030</td>\n",
       "      <td>27.0</td>\n",
       "      <td>object</td>\n",
       "    </tr>\n",
       "    <tr>\n",
       "      <th>transit</th>\n",
       "      <td>0</td>\n",
       "      <td>934</td>\n",
       "      <td>24.5</td>\n",
       "      <td>934</td>\n",
       "      <td>24.5</td>\n",
       "      <td>object</td>\n",
       "    </tr>\n",
       "    <tr>\n",
       "      <th>host_about</th>\n",
       "      <td>0</td>\n",
       "      <td>859</td>\n",
       "      <td>22.5</td>\n",
       "      <td>859</td>\n",
       "      <td>22.5</td>\n",
       "      <td>object</td>\n",
       "    </tr>\n",
       "    <tr>\n",
       "      <th>host_acceptance_rate</th>\n",
       "      <td>0</td>\n",
       "      <td>773</td>\n",
       "      <td>20.2</td>\n",
       "      <td>773</td>\n",
       "      <td>20.2</td>\n",
       "      <td>object</td>\n",
       "    </tr>\n",
       "    <tr>\n",
       "      <th>review_scores_accuracy</th>\n",
       "      <td>0</td>\n",
       "      <td>658</td>\n",
       "      <td>17.2</td>\n",
       "      <td>658</td>\n",
       "      <td>17.2</td>\n",
       "      <td>float64</td>\n",
       "    </tr>\n",
       "    <tr>\n",
       "      <th>review_scores_checkin</th>\n",
       "      <td>0</td>\n",
       "      <td>658</td>\n",
       "      <td>17.2</td>\n",
       "      <td>658</td>\n",
       "      <td>17.2</td>\n",
       "      <td>float64</td>\n",
       "    </tr>\n",
       "    <tr>\n",
       "      <th>review_scores_value</th>\n",
       "      <td>0</td>\n",
       "      <td>656</td>\n",
       "      <td>17.2</td>\n",
       "      <td>656</td>\n",
       "      <td>17.2</td>\n",
       "      <td>float64</td>\n",
       "    </tr>\n",
       "    <tr>\n",
       "      <th>review_scores_location</th>\n",
       "      <td>0</td>\n",
       "      <td>655</td>\n",
       "      <td>17.2</td>\n",
       "      <td>655</td>\n",
       "      <td>17.2</td>\n",
       "      <td>float64</td>\n",
       "    </tr>\n",
       "    <tr>\n",
       "      <th>review_scores_cleanliness</th>\n",
       "      <td>0</td>\n",
       "      <td>653</td>\n",
       "      <td>17.1</td>\n",
       "      <td>653</td>\n",
       "      <td>17.1</td>\n",
       "      <td>float64</td>\n",
       "    </tr>\n",
       "    <tr>\n",
       "      <th>review_scores_communication</th>\n",
       "      <td>0</td>\n",
       "      <td>651</td>\n",
       "      <td>17.1</td>\n",
       "      <td>651</td>\n",
       "      <td>17.1</td>\n",
       "      <td>float64</td>\n",
       "    </tr>\n",
       "    <tr>\n",
       "      <th>review_scores_rating</th>\n",
       "      <td>0</td>\n",
       "      <td>647</td>\n",
       "      <td>16.9</td>\n",
       "      <td>647</td>\n",
       "      <td>16.9</td>\n",
       "      <td>float64</td>\n",
       "    </tr>\n",
       "    <tr>\n",
       "      <th>last_review</th>\n",
       "      <td>0</td>\n",
       "      <td>627</td>\n",
       "      <td>16.4</td>\n",
       "      <td>627</td>\n",
       "      <td>16.4</td>\n",
       "      <td>object</td>\n",
       "    </tr>\n",
       "    <tr>\n",
       "      <th>first_review</th>\n",
       "      <td>0</td>\n",
       "      <td>627</td>\n",
       "      <td>16.4</td>\n",
       "      <td>627</td>\n",
       "      <td>16.4</td>\n",
       "      <td>object</td>\n",
       "    </tr>\n",
       "    <tr>\n",
       "      <th>reviews_per_month</th>\n",
       "      <td>0</td>\n",
       "      <td>627</td>\n",
       "      <td>16.4</td>\n",
       "      <td>627</td>\n",
       "      <td>16.4</td>\n",
       "      <td>float64</td>\n",
       "    </tr>\n",
       "    <tr>\n",
       "      <th>space</th>\n",
       "      <td>0</td>\n",
       "      <td>569</td>\n",
       "      <td>14.9</td>\n",
       "      <td>569</td>\n",
       "      <td>14.9</td>\n",
       "      <td>object</td>\n",
       "    </tr>\n",
       "    <tr>\n",
       "      <th>host_response_rate</th>\n",
       "      <td>0</td>\n",
       "      <td>523</td>\n",
       "      <td>13.7</td>\n",
       "      <td>523</td>\n",
       "      <td>13.7</td>\n",
       "      <td>object</td>\n",
       "    </tr>\n",
       "    <tr>\n",
       "      <th>host_response_time</th>\n",
       "      <td>0</td>\n",
       "      <td>523</td>\n",
       "      <td>13.7</td>\n",
       "      <td>523</td>\n",
       "      <td>13.7</td>\n",
       "      <td>object</td>\n",
       "    </tr>\n",
       "    <tr>\n",
       "      <th>neighbourhood</th>\n",
       "      <td>0</td>\n",
       "      <td>416</td>\n",
       "      <td>10.9</td>\n",
       "      <td>416</td>\n",
       "      <td>10.9</td>\n",
       "      <td>object</td>\n",
       "    </tr>\n",
       "    <tr>\n",
       "      <th>xl_picture_url</th>\n",
       "      <td>0</td>\n",
       "      <td>320</td>\n",
       "      <td>8.4</td>\n",
       "      <td>320</td>\n",
       "      <td>8.4</td>\n",
       "      <td>object</td>\n",
       "    </tr>\n",
       "    <tr>\n",
       "      <th>medium_url</th>\n",
       "      <td>0</td>\n",
       "      <td>320</td>\n",
       "      <td>8.4</td>\n",
       "      <td>320</td>\n",
       "      <td>8.4</td>\n",
       "      <td>object</td>\n",
       "    </tr>\n",
       "    <tr>\n",
       "      <th>thumbnail_url</th>\n",
       "      <td>0</td>\n",
       "      <td>320</td>\n",
       "      <td>8.4</td>\n",
       "      <td>320</td>\n",
       "      <td>8.4</td>\n",
       "      <td>object</td>\n",
       "    </tr>\n",
       "    <tr>\n",
       "      <th>host_neighbourhood</th>\n",
       "      <td>0</td>\n",
       "      <td>300</td>\n",
       "      <td>7.9</td>\n",
       "      <td>300</td>\n",
       "      <td>7.9</td>\n",
       "      <td>object</td>\n",
       "    </tr>\n",
       "    <tr>\n",
       "      <th>summary</th>\n",
       "      <td>0</td>\n",
       "      <td>177</td>\n",
       "      <td>4.6</td>\n",
       "      <td>177</td>\n",
       "      <td>4.6</td>\n",
       "      <td>object</td>\n",
       "    </tr>\n",
       "    <tr>\n",
       "      <th>bathrooms</th>\n",
       "      <td>8</td>\n",
       "      <td>16</td>\n",
       "      <td>0.4</td>\n",
       "      <td>24</td>\n",
       "      <td>0.6</td>\n",
       "      <td>float64</td>\n",
       "    </tr>\n",
       "    <tr>\n",
       "      <th>host_location</th>\n",
       "      <td>0</td>\n",
       "      <td>8</td>\n",
       "      <td>0.2</td>\n",
       "      <td>8</td>\n",
       "      <td>0.2</td>\n",
       "      <td>object</td>\n",
       "    </tr>\n",
       "    <tr>\n",
       "      <th>zipcode</th>\n",
       "      <td>0</td>\n",
       "      <td>7</td>\n",
       "      <td>0.2</td>\n",
       "      <td>7</td>\n",
       "      <td>0.2</td>\n",
       "      <td>object</td>\n",
       "    </tr>\n",
       "    <tr>\n",
       "      <th>bedrooms</th>\n",
       "      <td>372</td>\n",
       "      <td>6</td>\n",
       "      <td>0.2</td>\n",
       "      <td>378</td>\n",
       "      <td>9.9</td>\n",
       "      <td>float64</td>\n",
       "    </tr>\n",
       "    <tr>\n",
       "      <th>host_has_profile_pic</th>\n",
       "      <td>0</td>\n",
       "      <td>2</td>\n",
       "      <td>0.1</td>\n",
       "      <td>2</td>\n",
       "      <td>0.1</td>\n",
       "      <td>object</td>\n",
       "    </tr>\n",
       "    <tr>\n",
       "      <th>host_total_listings_count</th>\n",
       "      <td>0</td>\n",
       "      <td>2</td>\n",
       "      <td>0.1</td>\n",
       "      <td>2</td>\n",
       "      <td>0.1</td>\n",
       "      <td>float64</td>\n",
       "    </tr>\n",
       "    <tr>\n",
       "      <th>host_listings_count</th>\n",
       "      <td>0</td>\n",
       "      <td>2</td>\n",
       "      <td>0.1</td>\n",
       "      <td>2</td>\n",
       "      <td>0.1</td>\n",
       "      <td>float64</td>\n",
       "    </tr>\n",
       "    <tr>\n",
       "      <th>host_picture_url</th>\n",
       "      <td>0</td>\n",
       "      <td>2</td>\n",
       "      <td>0.1</td>\n",
       "      <td>2</td>\n",
       "      <td>0.1</td>\n",
       "      <td>object</td>\n",
       "    </tr>\n",
       "    <tr>\n",
       "      <th>host_thumbnail_url</th>\n",
       "      <td>0</td>\n",
       "      <td>2</td>\n",
       "      <td>0.1</td>\n",
       "      <td>2</td>\n",
       "      <td>0.1</td>\n",
       "      <td>object</td>\n",
       "    </tr>\n",
       "    <tr>\n",
       "      <th>host_is_superhost</th>\n",
       "      <td>0</td>\n",
       "      <td>2</td>\n",
       "      <td>0.1</td>\n",
       "      <td>2</td>\n",
       "      <td>0.1</td>\n",
       "      <td>object</td>\n",
       "    </tr>\n",
       "    <tr>\n",
       "      <th>host_since</th>\n",
       "      <td>0</td>\n",
       "      <td>2</td>\n",
       "      <td>0.1</td>\n",
       "      <td>2</td>\n",
       "      <td>0.1</td>\n",
       "      <td>object</td>\n",
       "    </tr>\n",
       "    <tr>\n",
       "      <th>host_name</th>\n",
       "      <td>0</td>\n",
       "      <td>2</td>\n",
       "      <td>0.1</td>\n",
       "      <td>2</td>\n",
       "      <td>0.1</td>\n",
       "      <td>object</td>\n",
       "    </tr>\n",
       "    <tr>\n",
       "      <th>host_identity_verified</th>\n",
       "      <td>0</td>\n",
       "      <td>2</td>\n",
       "      <td>0.1</td>\n",
       "      <td>2</td>\n",
       "      <td>0.1</td>\n",
       "      <td>object</td>\n",
       "    </tr>\n",
       "    <tr>\n",
       "      <th>beds</th>\n",
       "      <td>0</td>\n",
       "      <td>1</td>\n",
       "      <td>0.0</td>\n",
       "      <td>1</td>\n",
       "      <td>0.0</td>\n",
       "      <td>float64</td>\n",
       "    </tr>\n",
       "    <tr>\n",
       "      <th>property_type</th>\n",
       "      <td>0</td>\n",
       "      <td>1</td>\n",
       "      <td>0.0</td>\n",
       "      <td>1</td>\n",
       "      <td>0.0</td>\n",
       "      <td>object</td>\n",
       "    </tr>\n",
       "  </tbody>\n",
       "</table>\n",
       "</div>"
      ],
      "text/plain": [
       "                             Zero Values  Missing Values  % of Total Values  \\\n",
       "license                                0            3818              100.0   \n",
       "square_feet                            5            3721               97.5   \n",
       "monthly_price                          0            2301               60.3   \n",
       "security_deposit                       0            1952               51.1   \n",
       "weekly_price                           0            1809               47.4   \n",
       "notes                                  0            1606               42.1   \n",
       "neighborhood_overview                  0            1032               27.0   \n",
       "cleaning_fee                           0            1030               27.0   \n",
       "transit                                0             934               24.5   \n",
       "host_about                             0             859               22.5   \n",
       "host_acceptance_rate                   0             773               20.2   \n",
       "review_scores_accuracy                 0             658               17.2   \n",
       "review_scores_checkin                  0             658               17.2   \n",
       "review_scores_value                    0             656               17.2   \n",
       "review_scores_location                 0             655               17.2   \n",
       "review_scores_cleanliness              0             653               17.1   \n",
       "review_scores_communication            0             651               17.1   \n",
       "review_scores_rating                   0             647               16.9   \n",
       "last_review                            0             627               16.4   \n",
       "first_review                           0             627               16.4   \n",
       "reviews_per_month                      0             627               16.4   \n",
       "space                                  0             569               14.9   \n",
       "host_response_rate                     0             523               13.7   \n",
       "host_response_time                     0             523               13.7   \n",
       "neighbourhood                          0             416               10.9   \n",
       "xl_picture_url                         0             320                8.4   \n",
       "medium_url                             0             320                8.4   \n",
       "thumbnail_url                          0             320                8.4   \n",
       "host_neighbourhood                     0             300                7.9   \n",
       "summary                                0             177                4.6   \n",
       "bathrooms                              8              16                0.4   \n",
       "host_location                          0               8                0.2   \n",
       "zipcode                                0               7                0.2   \n",
       "bedrooms                             372               6                0.2   \n",
       "host_has_profile_pic                   0               2                0.1   \n",
       "host_total_listings_count              0               2                0.1   \n",
       "host_listings_count                    0               2                0.1   \n",
       "host_picture_url                       0               2                0.1   \n",
       "host_thumbnail_url                     0               2                0.1   \n",
       "host_is_superhost                      0               2                0.1   \n",
       "host_since                             0               2                0.1   \n",
       "host_name                              0               2                0.1   \n",
       "host_identity_verified                 0               2                0.1   \n",
       "beds                                   0               1                0.0   \n",
       "property_type                          0               1                0.0   \n",
       "\n",
       "                             Total Zero Missing Values  \\\n",
       "license                                           3818   \n",
       "square_feet                                       3726   \n",
       "monthly_price                                     2301   \n",
       "security_deposit                                  1952   \n",
       "weekly_price                                      1809   \n",
       "notes                                             1606   \n",
       "neighborhood_overview                             1032   \n",
       "cleaning_fee                                      1030   \n",
       "transit                                            934   \n",
       "host_about                                         859   \n",
       "host_acceptance_rate                               773   \n",
       "review_scores_accuracy                             658   \n",
       "review_scores_checkin                              658   \n",
       "review_scores_value                                656   \n",
       "review_scores_location                             655   \n",
       "review_scores_cleanliness                          653   \n",
       "review_scores_communication                        651   \n",
       "review_scores_rating                               647   \n",
       "last_review                                        627   \n",
       "first_review                                       627   \n",
       "reviews_per_month                                  627   \n",
       "space                                              569   \n",
       "host_response_rate                                 523   \n",
       "host_response_time                                 523   \n",
       "neighbourhood                                      416   \n",
       "xl_picture_url                                     320   \n",
       "medium_url                                         320   \n",
       "thumbnail_url                                      320   \n",
       "host_neighbourhood                                 300   \n",
       "summary                                            177   \n",
       "bathrooms                                           24   \n",
       "host_location                                        8   \n",
       "zipcode                                              7   \n",
       "bedrooms                                           378   \n",
       "host_has_profile_pic                                 2   \n",
       "host_total_listings_count                            2   \n",
       "host_listings_count                                  2   \n",
       "host_picture_url                                     2   \n",
       "host_thumbnail_url                                   2   \n",
       "host_is_superhost                                    2   \n",
       "host_since                                           2   \n",
       "host_name                                            2   \n",
       "host_identity_verified                               2   \n",
       "beds                                                 1   \n",
       "property_type                                        1   \n",
       "\n",
       "                             % Total Zero Missing Values Data Type  \n",
       "license                                            100.0   float64  \n",
       "square_feet                                         97.6   float64  \n",
       "monthly_price                                       60.3    object  \n",
       "security_deposit                                    51.1    object  \n",
       "weekly_price                                        47.4    object  \n",
       "notes                                               42.1    object  \n",
       "neighborhood_overview                               27.0    object  \n",
       "cleaning_fee                                        27.0    object  \n",
       "transit                                             24.5    object  \n",
       "host_about                                          22.5    object  \n",
       "host_acceptance_rate                                20.2    object  \n",
       "review_scores_accuracy                              17.2   float64  \n",
       "review_scores_checkin                               17.2   float64  \n",
       "review_scores_value                                 17.2   float64  \n",
       "review_scores_location                              17.2   float64  \n",
       "review_scores_cleanliness                           17.1   float64  \n",
       "review_scores_communication                         17.1   float64  \n",
       "review_scores_rating                                16.9   float64  \n",
       "last_review                                         16.4    object  \n",
       "first_review                                        16.4    object  \n",
       "reviews_per_month                                   16.4   float64  \n",
       "space                                               14.9    object  \n",
       "host_response_rate                                  13.7    object  \n",
       "host_response_time                                  13.7    object  \n",
       "neighbourhood                                       10.9    object  \n",
       "xl_picture_url                                       8.4    object  \n",
       "medium_url                                           8.4    object  \n",
       "thumbnail_url                                        8.4    object  \n",
       "host_neighbourhood                                   7.9    object  \n",
       "summary                                              4.6    object  \n",
       "bathrooms                                            0.6   float64  \n",
       "host_location                                        0.2    object  \n",
       "zipcode                                              0.2    object  \n",
       "bedrooms                                             9.9   float64  \n",
       "host_has_profile_pic                                 0.1    object  \n",
       "host_total_listings_count                            0.1   float64  \n",
       "host_listings_count                                  0.1   float64  \n",
       "host_picture_url                                     0.1    object  \n",
       "host_thumbnail_url                                   0.1    object  \n",
       "host_is_superhost                                    0.1    object  \n",
       "host_since                                           0.1    object  \n",
       "host_name                                            0.1    object  \n",
       "host_identity_verified                               0.1    object  \n",
       "beds                                                 0.0   float64  \n",
       "property_type                                        0.0    object  "
      ]
     },
     "execution_count": 6,
     "metadata": {},
     "output_type": "execute_result"
    }
   ],
   "source": [
    "# look for missing values in Dataframe \"Listings\"\n",
    "missing_values_table(df_listings)"
   ]
  },
  {
   "cell_type": "markdown",
   "metadata": {},
   "source": [
    "# <h3 id='q1'>Question 1</h3>\n",
    "\n",
    "**1.** Which are the property_type in Seattle Airbnb and the price range?"
   ]
  },
  {
   "cell_type": "code",
   "execution_count": 7,
   "metadata": {},
   "outputs": [],
   "source": [
    "'''\n",
    "Prepare Data for Q1\n",
    "Focus on the data required for the analysis, check and clean the data before performing analysis \n",
    "'''\n",
    "#price should be changed from object to float as it's a numeric value\n",
    "df_listings['price'] = df_listings['price'].str.replace(',', '').str.replace('$', '')\n",
    "df_listings['price']= df_listings['price'].astype(float)"
   ]
  },
  {
   "cell_type": "code",
   "execution_count": 8,
   "metadata": {},
   "outputs": [
    {
     "data": {
      "text/plain": [
       "1"
      ]
     },
     "execution_count": 8,
     "metadata": {},
     "output_type": "execute_result"
    }
   ],
   "source": [
    "#check if any missing value\n",
    "df_listings['property_type'].isnull().sum()"
   ]
  },
  {
   "cell_type": "code",
   "execution_count": 9,
   "metadata": {},
   "outputs": [],
   "source": [
    "#remove null row as it does not provide any information to our question\n",
    "df_listings = df_listings.dropna(subset=['property_type'])"
   ]
  },
  {
   "cell_type": "code",
   "execution_count": 10,
   "metadata": {},
   "outputs": [
    {
     "data": {
      "text/plain": [
       "Text(0.5,1,'property_type vs price')"
      ]
     },
     "execution_count": 10,
     "metadata": {},
     "output_type": "execute_result"
    },
    {
     "data": {
      "image/png": "[encoded data removed]",
      "text/plain": [
       "<matplotlib.figure.Figure at 0x7f617c12c828>"
      ]
     },
     "metadata": {
      "needs_background": "light"
     },
     "output_type": "display_data"
    }
   ],
   "source": [
    "'''\n",
    "Evaluate the results and create visual for Q1\n",
    "'''\n",
    "#create a scatter plot to show\n",
    "plt.scatter(df_listings['price'],df_listings['property_type'])\n",
    "plt.ylabel('property_type')\n",
    "plt.xlabel('price')\n",
    "plt.title('property_type vs price')\n"
   ]
  },
  {
   "cell_type": "code",
   "execution_count": 11,
   "metadata": {},
   "outputs": [
    {
     "data": {
      "text/plain": [
       "House              1733\n",
       "Apartment          1708\n",
       "Townhouse           118\n",
       "Condominium          91\n",
       "Loft                 40\n",
       "Bed & Breakfast      37\n",
       "Other                22\n",
       "Cabin                21\n",
       "Bungalow             13\n",
       "Camper/RV            13\n",
       "Boat                  8\n",
       "Tent                  5\n",
       "Treehouse             3\n",
       "Chalet                2\n",
       "Dorm                  2\n",
       "Yurt                  1\n",
       "Name: property_type, dtype: int64"
      ]
     },
     "execution_count": 11,
     "metadata": {},
     "output_type": "execute_result"
    }
   ],
   "source": [
    "#most common property type\n",
    "df_listings['property_type'].value_counts().sort_values(ascending=False)\n"
   ]
  },
  {
   "cell_type": "markdown",
   "metadata": {},
   "source": [
    "\n",
    "### Question 2\n",
    "\n",
    "**2.** Which room type/ property type are more popular - based on the availability_90 column?"
   ]
  },
  {
   "cell_type": "code",
   "execution_count": 12,
   "metadata": {},
   "outputs": [
    {
     "data": {
      "text/plain": [
       "0"
      ]
     },
     "execution_count": 12,
     "metadata": {},
     "output_type": "execute_result"
    }
   ],
   "source": [
    "'''\n",
    "Prepare Data for Q2\n",
    "Focus on the data required for the analysis, check and clean the data before performing analysis \n",
    "'''\n",
    "#check if any missing value\n",
    "df_listings['availability_90'].isnull().sum()"
   ]
  },
  {
   "cell_type": "code",
   "execution_count": 13,
   "metadata": {},
   "outputs": [],
   "source": [
    "#check the booking rate for the coming year\n",
    "df_listings['booking_rate'] = 1-(df_listings['availability_90']/90)"
   ]
  },
  {
   "cell_type": "code",
   "execution_count": 14,
   "metadata": {},
   "outputs": [
    {
     "data": {
      "text/plain": [
       "0"
      ]
     },
     "execution_count": 14,
     "metadata": {},
     "output_type": "execute_result"
    }
   ],
   "source": [
    "#check if any missing value\n",
    "df_listings['room_type'].isnull().sum()\n"
   ]
  },
  {
   "cell_type": "code",
   "execution_count": 15,
   "metadata": {},
   "outputs": [
    {
     "data": {
      "text/plain": [
       "0"
      ]
     },
     "execution_count": 15,
     "metadata": {},
     "output_type": "execute_result"
    }
   ],
   "source": [
    "#check if any missing value\n",
    "df_listings['property_type'].isnull().sum()"
   ]
  },
  {
   "cell_type": "code",
   "execution_count": 16,
   "metadata": {},
   "outputs": [],
   "source": [
    "#remove null row as it does not provide any information to our question\n",
    "df_listings = df_listings.dropna(subset=['property_type'])"
   ]
  },
  {
   "cell_type": "code",
   "execution_count": 17,
   "metadata": {},
   "outputs": [
    {
     "data": {
      "image/png": "[encoded data removed]",
      "text/plain": [
       "<matplotlib.figure.Figure at 0x7f617a130860>"
      ]
     },
     "metadata": {
      "needs_background": "light"
     },
     "output_type": "display_data"
    }
   ],
   "source": [
    "'''\n",
    "Evaluate the results and create visual for Q2\n",
    "'''\n",
    "#create a chart showing the booking rate for the coming year\n",
    "(df_listings.groupby(['room_type'])['booking_rate'].mean().sort_values(ascending=False)).plot(kind='bar', legend=None)\n",
    "plt.title('Booking rate vs. room type');\n",
    "plt.show()"
   ]
  },
  {
   "cell_type": "code",
   "execution_count": 18,
   "metadata": {},
   "outputs": [
    {
     "data": {
      "image/png": "[encoded data removed]",
      "text/plain": [
       "<matplotlib.figure.Figure at 0x7f617bbe1588>"
      ]
     },
     "metadata": {
      "needs_background": "light"
     },
     "output_type": "display_data"
    }
   ],
   "source": [
    "#create a chart showing the booking rate for the coming year\n",
    "(df_listings.groupby(['property_type'])['booking_rate'].mean().sort_values(ascending=False)).plot(kind='bar', legend=None)\n",
    "plt.title('Booking rate vs. property type');\n",
    "plt.show()"
   ]
  },
  {
   "cell_type": "markdown",
   "metadata": {},
   "source": [
    "### Question 3\n",
    "\n",
    "**3.** What factors may affect the price and booking rate? "
   ]
  },
  {
   "cell_type": "code",
   "execution_count": 19,
   "metadata": {},
   "outputs": [
    {
     "name": "stdout",
     "output_type": "stream",
     "text": [
      "price                   float64\n",
      "booking_rate            float64\n",
      "accommodates              int64\n",
      "bathrooms               float64\n",
      "bedrooms                float64\n",
      "beds                    float64\n",
      "square_feet             float64\n",
      "number_of_reviews         int64\n",
      "host_listings_count     float64\n",
      "review_scores_rating    float64\n",
      "reviews_per_month       float64\n",
      "dtype: object\n"
     ]
    }
   ],
   "source": [
    "'''\n",
    "Prepare Data for Q3\n",
    "Focus on the data required for the analysis, check and clean the data before performing analysis \n",
    "'''\n",
    "# heatmap\n",
    "#Numerical columns to find out correlation\n",
    "features = ['price','booking_rate',\n",
    "        'accommodates','bathrooms','bedrooms','beds','square_feet',\n",
    "        'number_of_reviews','host_listings_count','review_scores_rating','reviews_per_month']\n",
    "\n",
    "#check the datatype to ensure it's numeric\n",
    "print(df_listings[features].dtypes)\n",
    "\n"
   ]
  },
  {
   "cell_type": "code",
   "execution_count": 20,
   "metadata": {},
   "outputs": [
    {
     "data": {
      "text/plain": [
       "bathrooms                 16\n",
       "bedrooms                   6\n",
       "beds                       1\n",
       "square_feet             3720\n",
       "host_listings_count        2\n",
       "review_scores_rating     646\n",
       "reviews_per_month        626\n",
       "dtype: int64"
      ]
     },
     "execution_count": 20,
     "metadata": {},
     "output_type": "execute_result"
    }
   ],
   "source": [
    "#check missing values\n",
    "df_features = df_listings[features]\n",
    "\n",
    "df_features.isnull().sum()[df_features.isnull().sum()>0]"
   ]
  },
  {
   "cell_type": "code",
   "execution_count": 33,
   "metadata": {},
   "outputs": [],
   "source": [
    "#Drop \"square_feet\" as most of the rows are null\n",
    "df_features = df_features.drop(['square_feet'], axis=1)\n",
    "    \n",
    "# Fill the missing values with the mean for bathrooms, bedrooms, host_listings_count as they have very few missing values \n",
    "df_features['bathrooms'].fillna(df_features['bathrooms'].mean(), inplace=True)\n",
    "df_features['bedrooms'].fillna(df_features['bedrooms'].mean(), inplace=True)\n",
    "df_features['beds'].fillna(df_features['beds'].mean(), inplace=True)\n",
    "df_features['host_listings_count'].fillna(df_features['host_listings_count'].mean(), inplace=True)"
   ]
  },
  {
   "cell_type": "code",
   "execution_count": 34,
   "metadata": {},
   "outputs": [
    {
     "data": {
      "text/plain": [
       "<matplotlib.axes._subplots.AxesSubplot at 0x7f617b19f0b8>"
      ]
     },
     "execution_count": 34,
     "metadata": {},
     "output_type": "execute_result"
    },
    {
     "data": {
      "image/png": "[encoded data removed]",
      "text/plain": [
       "<matplotlib.figure.Figure at 0x7f617c0fa518>"
      ]
     },
     "metadata": {},
     "output_type": "display_data"
    }
   ],
   "source": [
    "#for review_scores_rating and reviews_per_month, check with the pattern using boxplot\n",
    "sns.boxplot(df_features.review_scores_rating)"
   ]
  },
  {
   "cell_type": "code",
   "execution_count": 35,
   "metadata": {},
   "outputs": [
    {
     "data": {
      "text/plain": [
       "<matplotlib.axes._subplots.AxesSubplot at 0x7f617b0af0b8>"
      ]
     },
     "execution_count": 35,
     "metadata": {},
     "output_type": "execute_result"
    },
    {
     "data": {
      "image/png": "[encoded data removed]",
      "text/plain": [
       "<matplotlib.figure.Figure at 0x7f617b351f60>"
      ]
     },
     "metadata": {},
     "output_type": "display_data"
    }
   ],
   "source": [
    "sns.boxplot(df_features.reviews_per_month)"
   ]
  },
  {
   "cell_type": "code",
   "execution_count": 42,
   "metadata": {},
   "outputs": [],
   "source": [
    "# Fill the missing values with mode for review_scores_rating and reviews_per_month as the data is skewed\n",
    "df_features['review_scores_rating'].fillna(df_features['review_scores_rating'].mode()[0], inplace=True)\n",
    "df_features['reviews_per_month'].fillna(df_features['reviews_per_month'].mode()[0], inplace=True)"
   ]
  },
  {
   "cell_type": "code",
   "execution_count": 43,
   "metadata": {},
   "outputs": [
    {
     "data": {
      "text/plain": [
       "Text(0.5,1,'Correlations heatmap')"
      ]
     },
     "execution_count": 43,
     "metadata": {},
     "output_type": "execute_result"
    },
    {
     "data": {
      "image/png": "[encoded data removed]",
      "text/plain": [
       "<matplotlib.figure.Figure at 0x7f617adcb2b0>"
      ]
     },
     "metadata": {},
     "output_type": "display_data"
    }
   ],
   "source": [
    "'''\n",
    "Evaluate the results and create visual for Q3\n",
    "'''\n",
    "#Find out correlation between columns and plot\n",
    "corrs = np.corrcoef(df_features.values.T)\n",
    "sns.set(font_scale=1)\n",
    "sns.set(rc={'figure.figsize':(7,7)})\n",
    "sns.heatmap(corrs, cbar = True, annot=True, square = True, fmt = '.2f',\n",
    "              yticklabels = df_features.columns, xticklabels = df_features.columns).set_title('Correlations heatmap')\n",
    "\n"
   ]
  },
  {
   "cell_type": "code",
   "execution_count": null,
   "metadata": {},
   "outputs": [],
   "source": []
  },
  {
   "cell_type": "markdown",
   "metadata": {},
   "source": [
    "# Conclusion\n",
    "1. The most common property type are house and apartment.  Their price range also varies widely.  \n",
    "2. Amongst all the property type, the booking rate for tent is the highest.\n",
    "3. The column with the strongest correlation with price is accomodates.  The booking rate shows weak correlation with others.\n"
   ]
  },
  {
   "cell_type": "code",
   "execution_count": null,
   "metadata": {},
   "outputs": [],
   "source": []
  }
 ],
 "metadata": {
  "kernelspec": {
   "display_name": "Python 3",
   "language": "python",
   "name": "python3"
  },
  "language_info": {
   "codemirror_mode": {
    "name": "ipython",
    "version": 3
   },
   "file_extension": ".py",
   "mimetype": "text/x-python",
   "name": "python",
   "nbconvert_exporter": "python",
   "pygments_lexer": "ipython3",
   "version": "3.6.3"
  }
 },
 "nbformat": 4,
 "nbformat_minor": 2
}
